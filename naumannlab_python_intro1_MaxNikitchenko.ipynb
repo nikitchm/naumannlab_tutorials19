{
 "cells": [
  {
   "cell_type": "markdown",
   "metadata": {
    "collapsed": true
   },
   "source": [
    "__Python:__\n",
    "\n",
    "Free software (particular modules and IDEs might not be);<br /> \n",
    "Developed in the late 1980s by Guido van Rossum.;<br />\n",
    "Interpreted language; dynamic typing; no compilation (except for some special modules);<br />\n",
    "Large community;<br />\n",
    "    \n",
    "__Some of the packages of interest to us:__\n",
    "\n",
    "Numpy -- commonly used numerical package implementing a lot of the matrix based Matlab functionality <br />\n",
    "opencv -- a library of functions for computer vision\n",
    "Matplotlib / sea -- for plotting<br />\n",
    "Scipy -- A combination of numeric tools (includes numpy, etc)<br />\n",
    "Pandas -- operations with data structures (tables, statistics, etc)<br />\n",
    "PyQT -- a set of bindings to the QT framework for GUI creation<br />\n",
    "    \n",
    "__IDEs:__\n",
    "\n",
    "Most popular: PyCharm.<br />\n",
    "    Other IDEs: IDLE, Spyder, Eclipse.\n",
    "    \n",
    "__Resorces:__\n",
    "\n",
    "* google\n",
    "    (often will provide you with a link to the _stackoverflow_ forum -- a great source of help)\n",
    "* books\n",
    "    * \"Learning Python\", 5th Edition, by Mark Lutz -- slow pace (the author is very talkative), but comprehensive and easy to follow book. Chapter 2 gives a good overview of the main topics.\n",
    "    * \"Rapid GUI Programming with Python and Qt\" by Mark Summerfield -- the main book on GUI development. It also has a well written, albeit very dense 100-page introduction into general python programming.\n",
    "    *  \"Python Cookbook\", 3rd Edition, by David Beazley, Brian K. Jones -- Recipes for Mastering Python 3 -- learn the language by examples.\n",
    "* Online tutorials:\n",
    "    * [Numpy](http://wiki.scipy.org/Tentative_NumPy_Tutorial)\n",
    "    * [Inbuilt functions](https://docs.python.org/2/library/functions.html)\n",
    "        * [examples](http://joequery.me/code/python-builtin-functions/)\n",
    "    * [iterators/generators](http://nvie.com/posts/iterators-vs-generators/)\n",
    "        * also: [here](http://www.shutupandship.com/2012/01/understanding-python-iterables-and.html)"
   ]
  },
  {
   "cell_type": "markdown",
   "metadata": {
    "collapsed": true
   },
   "source": [
    "[__ipython shortcuts__](https://ipython.org/ipython-doc/1/interactive/notebook.html):\n",
    "* Shift-Enter : execute the cell and move to the next one\n",
    "* Ctrl-Enter : execute the cell and stay in place\n",
    "* Alt-Enter : execute the cell, insert a cell below"
   ]
  },
  {
   "cell_type": "markdown",
   "metadata": {},
   "source": [
    "__A few basics__\n",
    "* lines beginning with # are interpreted as comments (multiline comments: \"\"\" multiline comments here \"\"\") \n",
    "* indexing of lists, arrays, etc start with 0\n",
    "* the boundaries for where the netsted code, code in functions, etc begins and ends is indicated by indentation. Only the relative number of spaces prior to the code matters."
   ]
  },
  {
   "cell_type": "code",
   "execution_count": null,
   "metadata": {},
   "outputs": [
    {
     "name": "stdout",
     "output_type": "stream",
     "text": [
      "Populating the interactive namespace from numpy and matplotlib\n"
     ]
    }
   ],
   "source": [
    "# First run (it'll allow us show figures in the notebook later on):\n",
    "\"\"\" multi\n",
    "line\n",
    "\"\"\"\n",
    "%pylab inline"
   ]
  },
  {
   "cell_type": "markdown",
   "metadata": {},
   "source": [
    "__Let's begin.__ For an informal introduction into Python, see [this](https://docs.python.org/2/tutorial/introduction.html) -- it will cover much of what we'll cover below.<br />\n",
    "Since Python is the language with dynamic typing, there is no need to define the type of the variables (you can assert it though -- on that, later)."
   ]
  },
  {
   "cell_type": "markdown",
   "metadata": {},
   "source": [
    "__Numeric types__ ([ref1](https://docs.python.org/2.4/lib/typesnumeric.html), [ref2](http://www.tutorialspoint.com/python/python_basic_operators.htm))"
   ]
  },
  {
   "cell_type": "code",
   "execution_count": 14,
   "metadata": {},
   "outputs": [
    {
     "name": "stdout",
     "output_type": "stream",
     "text": [
      "2\n",
      "4\n"
     ]
    }
   ],
   "source": [
    "n = 1   # integer\n",
    "n = n + 1\n",
    "print(n)\n",
    "# another way to increase the value of a variable (below, by 2):\n",
    "n += 2\n",
    "print(n)\n",
    "# same for subtraction:\n",
    "n -= 2"
   ]
  },
  {
   "cell_type": "code",
   "execution_count": 20,
   "metadata": {},
   "outputs": [
    {
     "data": {
      "text/plain": [
       "3.1"
      ]
     },
     "execution_count": 20,
     "metadata": {},
     "output_type": "execute_result"
    }
   ],
   "source": [
    "x = 1.1    # float\n",
    "x = x + n  # often, if the operation involving two different types makes sense,\n",
    "           # it'll be implemented. Here, we're adding the integer and float numbers\n",
    "x"
   ]
  },
  {
   "cell_type": "code",
   "execution_count": 21,
   "metadata": {},
   "outputs": [
    {
     "data": {
      "text/plain": [
       "8"
      ]
     },
     "execution_count": 21,
     "metadata": {},
     "output_type": "execute_result"
    }
   ],
   "source": [
    "# multiply\n",
    "2*3\n",
    "# raise to power\n",
    "2**3"
   ]
  },
  {
   "cell_type": "markdown",
   "metadata": {},
   "source": [
    "[__STRINGS__](https://docs.python.org/2/library/string.html)"
   ]
  },
  {
   "cell_type": "code",
   "execution_count": null,
   "metadata": {},
   "outputs": [],
   "source": [
    "s = 'fish1'\n",
    "s"
   ]
  },
  {
   "cell_type": "code",
   "execution_count": 25,
   "metadata": {},
   "outputs": [
    {
     "data": {
      "text/plain": [
       "\"'fish1' acted irratically\""
      ]
     },
     "execution_count": 25,
     "metadata": {},
     "output_type": "execute_result"
    }
   ],
   "source": [
    "# strings can be bounded by a single or double quotation marks,\n",
    "# which can encompass each other:\n",
    "s = \"'fish1' acted irratically\"\n",
    "s"
   ]
  },
  {
   "cell_type": "code",
   "execution_count": 34,
   "metadata": {},
   "outputs": [
    {
     "name": "stdout",
     "output_type": "stream",
     "text": [
      "C:\\data\\filename.txt\n"
     ]
    }
   ],
   "source": [
    "# Raw strings prevent special characters\n",
    "s = r'C:\\data\\filename.txt'\n",
    "print(s)"
   ]
  },
  {
   "cell_type": "code",
   "execution_count": 36,
   "metadata": {},
   "outputs": [
    {
     "data": {
      "text/plain": [
       "'fish1 has been imaged'"
      ]
     },
     "execution_count": 36,
     "metadata": {},
     "output_type": "execute_result"
    }
   ],
   "source": [
    "# adding strings concatenates them:\n",
    "'fish1' + ' has been imaged'"
   ]
  },
  {
   "cell_type": "markdown",
   "metadata": {},
   "source": [
    "### Quick detour\n",
    "Most (all) of the objects in Python are implemented via classes which we'll cover later on. The classes contain properties, which hold the information pertenant to the objects (for example, for an integer number, it will be it's value), and methods, which are operations associated with the objects. Methods are called by following the object with the period and the method name. For the capitalization example mentioned above (method is called upper()):\n",
    "\n",
    "For example, for strings, we could have:"
   ]
  },
  {
   "cell_type": "code",
   "execution_count": 46,
   "metadata": {},
   "outputs": [],
   "source": [
    "class String0():\n",
    "    def __init__(str):\n",
    "        self.str = str\n",
    "    \n",
    "    def validate(self):\n",
    "        if not type(self.str) == 'str':\n",
    "            raise\n",
    "    \n",
    "    def lower(self):\n",
    "        # convert the string to all lower literals\n",
    "        pass"
   ]
  },
  {
   "cell_type": "code",
   "execution_count": 52,
   "metadata": {},
   "outputs": [],
   "source": [
    "class Cars(object):\n",
    "    def __init__(self, n_wheels, color):\n",
    "        self.n_wheels = n_wheels\n",
    "        self.color = color\n",
    "        self.engine_running = False\n",
    "        \n",
    "    def drive(self):\n",
    "        # Imlementation for driving the car\n",
    "        self.engine_running = not self.engine_running\n",
    "        pass\n",
    "    \n",
    "    def re_paint(self, new_color):\n",
    "        # change the color of the car\n",
    "        pass\n",
    "    \n",
    "    def __add__(self, other):\n",
    "        self.color = self.color + other.color   # car1 = Cars(4, 'red'); car2 = Cars(4, 'blue'); car1 + car2"
   ]
  },
  {
   "cell_type": "code",
   "execution_count": 53,
   "metadata": {},
   "outputs": [],
   "source": [
    "# class inheritance\n",
    "class Trucks(Cars):\n",
    "    def __init__(self):\n",
    "        super().__init__(self)\n",
    "        \n",
    "    # new methods\n",
    "    def load_truck(self):\n",
    "        pass\n",
    "    \n",
    "    # method overloading\n",
    "    def drive(self):\n",
    "        # implement the method specific for the Trucks\n",
    "        pass"
   ]
  },
  {
   "cell_type": "code",
   "execution_count": 44,
   "metadata": {},
   "outputs": [
    {
     "data": {
      "text/plain": [
       "'STRING'"
      ]
     },
     "execution_count": 44,
     "metadata": {},
     "output_type": "execute_result"
    }
   ],
   "source": [
    "\"string\".upper()"
   ]
  },
  {
   "cell_type": "code",
   "execution_count": 45,
   "metadata": {},
   "outputs": [
    {
     "data": {
      "text/plain": [
       "'string'"
      ]
     },
     "execution_count": 45,
     "metadata": {},
     "output_type": "execute_result"
    }
   ],
   "source": [
    "s = 'StrIng'\n",
    "s.lower()"
   ]
  },
  {
   "cell_type": "code",
   "execution_count": 9,
   "metadata": {},
   "outputs": [],
   "source": [
    "s = \"   string   \"\n"
   ]
  },
  {
   "cell_type": "code",
   "execution_count": 10,
   "metadata": {},
   "outputs": [
    {
     "data": {
      "text/plain": [
       "'   string'"
      ]
     },
     "execution_count": 10,
     "metadata": {},
     "output_type": "execute_result"
    }
   ],
   "source": [
    "s.rstrip()"
   ]
  },
  {
   "cell_type": "markdown",
   "metadata": {},
   "source": [
    "In the same way, we could first define a variable and then apply the method to it:"
   ]
  },
  {
   "cell_type": "code",
   "execution_count": null,
   "metadata": {},
   "outputs": [],
   "source": [
    "s = 'a notification'\n",
    "s.upper()"
   ]
  },
  {
   "cell_type": "code",
   "execution_count": 55,
   "metadata": {},
   "outputs": [
    {
     "data": {
      "text/plain": [
       "4"
      ]
     },
     "execution_count": 55,
     "metadata": {},
     "output_type": "execute_result"
    }
   ],
   "source": [
    "'a notification'.count('i') + 1"
   ]
  },
  {
   "cell_type": "markdown",
   "metadata": {},
   "source": [
    "Often, we can stack the results of applying methods together:"
   ]
  },
  {
   "cell_type": "code",
   "execution_count": 56,
   "metadata": {},
   "outputs": [
    {
     "data": {
      "text/plain": [
       "False"
      ]
     },
     "execution_count": 56,
     "metadata": {},
     "output_type": "execute_result"
    }
   ],
   "source": [
    "'a notification'.upper().islower()"
   ]
  },
  {
   "cell_type": "markdown",
   "metadata": {},
   "source": [
    "Notice that  each method in the sequence acts on the result of running all the preceeding operations. So, the following example fails, because count() method returns an integer object which doesn't have the islower() method"
   ]
  },
  {
   "cell_type": "code",
   "execution_count": 57,
   "metadata": {},
   "outputs": [
    {
     "ename": "AttributeError",
     "evalue": "'int' object has no attribute 'islower'",
     "traceback": [
      "\u001b[1;31m---------------------------------------------------------------------------\u001b[0m",
      "\u001b[1;31mAttributeError\u001b[0m                            Traceback (most recent call last)",
      "\u001b[1;32m<ipython-input-57-efe167bf5904>\u001b[0m in \u001b[0;36m<module>\u001b[1;34m\u001b[0m\n\u001b[1;32m----> 1\u001b[1;33m \u001b[1;34m'a notification'\u001b[0m\u001b[1;33m.\u001b[0m\u001b[0mcount\u001b[0m\u001b[1;33m(\u001b[0m\u001b[1;34m'i'\u001b[0m\u001b[1;33m)\u001b[0m\u001b[1;33m.\u001b[0m\u001b[0mislower\u001b[0m\u001b[1;33m(\u001b[0m\u001b[1;33m)\u001b[0m\u001b[1;33m\u001b[0m\u001b[1;33m\u001b[0m\u001b[0m\n\u001b[0m",
      "\u001b[1;31mAttributeError\u001b[0m: 'int' object has no attribute 'islower'"
     ],
     "output_type": "error"
    }
   ],
   "source": [
    "'a notification'.count('i').islower()"
   ]
  },
  {
   "cell_type": "markdown",
   "metadata": {},
   "source": [
    "One, most basic, way to get the methods available for a given object or type, call dir() function. For example, the following command prints all the different methods available for strings: "
   ]
  },
  {
   "cell_type": "code",
   "execution_count": 58,
   "metadata": {},
   "outputs": [
    {
     "data": {
      "text/plain": [
       "['__add__',\n",
       " '__class__',\n",
       " '__contains__',\n",
       " '__delattr__',\n",
       " '__dir__',\n",
       " '__doc__',\n",
       " '__eq__',\n",
       " '__format__',\n",
       " '__ge__',\n",
       " '__getattribute__',\n",
       " '__getitem__',\n",
       " '__getnewargs__',\n",
       " '__gt__',\n",
       " '__hash__',\n",
       " '__init__',\n",
       " '__init_subclass__',\n",
       " '__iter__',\n",
       " '__le__',\n",
       " '__len__',\n",
       " '__lt__',\n",
       " '__mod__',\n",
       " '__mul__',\n",
       " '__ne__',\n",
       " '__new__',\n",
       " '__reduce__',\n",
       " '__reduce_ex__',\n",
       " '__repr__',\n",
       " '__rmod__',\n",
       " '__rmul__',\n",
       " '__setattr__',\n",
       " '__sizeof__',\n",
       " '__str__',\n",
       " '__subclasshook__',\n",
       " 'capitalize',\n",
       " 'casefold',\n",
       " 'center',\n",
       " 'count',\n",
       " 'encode',\n",
       " 'endswith',\n",
       " 'expandtabs',\n",
       " 'find',\n",
       " 'format',\n",
       " 'format_map',\n",
       " 'index',\n",
       " 'isalnum',\n",
       " 'isalpha',\n",
       " 'isascii',\n",
       " 'isdecimal',\n",
       " 'isdigit',\n",
       " 'isidentifier',\n",
       " 'islower',\n",
       " 'isnumeric',\n",
       " 'isprintable',\n",
       " 'isspace',\n",
       " 'istitle',\n",
       " 'isupper',\n",
       " 'join',\n",
       " 'ljust',\n",
       " 'lower',\n",
       " 'lstrip',\n",
       " 'maketrans',\n",
       " 'partition',\n",
       " 'replace',\n",
       " 'rfind',\n",
       " 'rindex',\n",
       " 'rjust',\n",
       " 'rpartition',\n",
       " 'rsplit',\n",
       " 'rstrip',\n",
       " 'split',\n",
       " 'splitlines',\n",
       " 'startswith',\n",
       " 'strip',\n",
       " 'swapcase',\n",
       " 'title',\n",
       " 'translate',\n",
       " 'upper',\n",
       " 'zfill']"
      ]
     },
     "execution_count": 58,
     "metadata": {},
     "output_type": "execute_result"
    }
   ],
   "source": [
    "dir('')"
   ]
  },
  {
   "cell_type": "markdown",
   "metadata": {},
   "source": [
    "Notice a large number of methods with double underscores (called dunders) surrounding them. These methods are private and are typically built-in (they are also called [magic methods](http://www.rafekettler.com/magicmethods.html)\n",
    "sometimes). However, while it's not a good practice for a final code, you can still access them. For example, the following gives the same result:"
   ]
  },
  {
   "cell_type": "code",
   "execution_count": 60,
   "metadata": {},
   "outputs": [
    {
     "name": "stdout",
     "output_type": "stream",
     "text": [
      "6\n"
     ]
    },
    {
     "data": {
      "text/plain": [
       "True"
      ]
     },
     "execution_count": 60,
     "metadata": {},
     "output_type": "execute_result"
    }
   ],
   "source": [
    "print(len('string'))\n",
    "len('string') == 'string'.__len__()   # len() function calls .__len__() methods behind the curtains "
   ]
  },
  {
   "cell_type": "markdown",
   "metadata": {},
   "source": [
    "[__FORMATING__](https://pyformat.info/) into strings / __PRINTING__"
   ]
  },
  {
   "cell_type": "code",
   "execution_count": 62,
   "metadata": {},
   "outputs": [
    {
     "ename": "SyntaxError",
     "evalue": "Missing parentheses in call to 'print'. Did you mean print('test %d' % 3)? (<ipython-input-62-6c3d4c1770b7>, line 3)",
     "traceback": [
      "\u001b[1;36m  File \u001b[1;32m\"<ipython-input-62-6c3d4c1770b7>\"\u001b[1;36m, line \u001b[1;32m3\u001b[0m\n\u001b[1;33m    print 'test %d' % 3\u001b[0m\n\u001b[1;37m                  ^\u001b[0m\n\u001b[1;31mSyntaxError\u001b[0m\u001b[1;31m:\u001b[0m Missing parentheses in call to 'print'. Did you mean print('test %d' % 3)?\n"
     ],
     "output_type": "error"
    }
   ],
   "source": [
    "# A statement form of printing that was allowed and wide-spread in Python 2 isn't allowed in Python 3 any more.\n",
    "# So, the following statement will work, if you're on Python 2, and will return error in Python 3:\n",
    "print 'test %d' % 3"
   ]
  },
  {
   "cell_type": "code",
   "execution_count": 63,
   "metadata": {},
   "outputs": [
    {
     "name": "stdout",
     "output_type": "stream",
     "text": [
      "test\n"
     ]
    }
   ],
   "source": [
    "# However, both pythons accept the functional form of printing:\n",
    "print('test')"
   ]
  },
  {
   "cell_type": "code",
   "execution_count": 64,
   "metadata": {},
   "outputs": [
    {
     "name": "stdout",
     "output_type": "stream",
     "text": [
      "Shorten the floating number to two significant digits: 1.12\n",
      "test 3 / time\n"
     ]
    }
   ],
   "source": [
    "# In order to use printing for reporting the current values of the variables, we need to format them into string.\n",
    "# We'll use the 'new' format method for strings for this purpose (see the link above for details):\n",
    "str = 'time'\n",
    "print(\"Shorten the floating number to two significant digits: {:.2f}\".format(1.1243345315231))\n",
    "print(\"test {} / {}\".format(3, str))"
   ]
  },
  {
   "cell_type": "markdown",
   "metadata": {},
   "source": [
    "__Object containers__: lists, tuples, and dictionaries"
   ]
  },
  {
   "cell_type": "markdown",
   "metadata": {},
   "source": [
    "[__Lists__](http://www.tutorialspoint.com/python/python_lists.htm)\n",
    "-- ordered containers for objects. Each element has an index associated with it. The indexes start from 0."
   ]
  },
  {
   "cell_type": "code",
   "execution_count": 67,
   "metadata": {},
   "outputs": [],
   "source": [
    "fishn = [10, 1, 3, 4, 'str']"
   ]
  },
  {
   "cell_type": "code",
   "execution_count": 69,
   "metadata": {},
   "outputs": [
    {
     "data": {
      "text/plain": [
       "10"
      ]
     },
     "execution_count": 69,
     "metadata": {},
     "output_type": "execute_result"
    }
   ],
   "source": [
    "fishn[0]"
   ]
  },
  {
   "cell_type": "code",
   "execution_count": 71,
   "metadata": {},
   "outputs": [
    {
     "data": {
      "text/plain": [
       "'str'"
      ]
     },
     "execution_count": 71,
     "metadata": {},
     "output_type": "execute_result"
    }
   ],
   "source": [
    "fishn[-1]"
   ]
  },
  {
   "cell_type": "markdown",
   "metadata": {},
   "source": [
    "We can also get several elements of the list (slice it):"
   ]
  },
  {
   "cell_type": "code",
   "execution_count": 74,
   "metadata": {},
   "outputs": [
    {
     "data": {
      "text/plain": [
       "[1, 3, 4]"
      ]
     },
     "execution_count": 74,
     "metadata": {},
     "output_type": "execute_result"
    }
   ],
   "source": [
    "fishn[1:4]  # here, the first index correspond to the first element, while the second to the element after\n",
    "            # the last in the slice."
   ]
  },
  {
   "cell_type": "code",
   "execution_count": 75,
   "metadata": {},
   "outputs": [
    {
     "data": {
      "text/plain": [
       "True"
      ]
     },
     "execution_count": 75,
     "metadata": {},
     "output_type": "execute_result"
    }
   ],
   "source": [
    "fishn[4] == fishn[-1]"
   ]
  },
  {
   "cell_type": "code",
   "execution_count": 76,
   "metadata": {},
   "outputs": [
    {
     "data": {
      "text/plain": [
       "True"
      ]
     },
     "execution_count": 76,
     "metadata": {},
     "output_type": "execute_result"
    }
   ],
   "source": [
    "# We can access the elements by calling their indexes counted from the start, or the end of the list.\n",
    "# The following calls for the example above are equivalent:\n",
    "fishn[len(fishn)-1] == fishn[-1]"
   ]
  },
  {
   "cell_type": "markdown",
   "metadata": {},
   "source": [
    "Notice that we checked whether two expressions are equal by using == operator. To check whether two expression differ, we can use != operator:"
   ]
  },
  {
   "cell_type": "code",
   "execution_count": 78,
   "metadata": {},
   "outputs": [
    {
     "data": {
      "text/plain": [
       "True"
      ]
     },
     "execution_count": 78,
     "metadata": {},
     "output_type": "execute_result"
    }
   ],
   "source": [
    "0 != 1"
   ]
  },
  {
   "cell_type": "code",
   "execution_count": 79,
   "metadata": {},
   "outputs": [
    {
     "data": {
      "text/plain": [
       "False"
      ]
     },
     "execution_count": 79,
     "metadata": {},
     "output_type": "execute_result"
    }
   ],
   "source": [
    "0 == 1"
   ]
  },
  {
   "cell_type": "code",
   "execution_count": 82,
   "metadata": {},
   "outputs": [
    {
     "data": {
      "text/plain": [
       "[10, 4, 3, 1, -1]"
      ]
     },
     "execution_count": 82,
     "metadata": {},
     "output_type": "execute_result"
    }
   ],
   "source": [
    "# if the elements can be sorted as in in the case above, we can call .sort() method to do it:\n",
    "fishn = [10, 1, 3, 4, -1]\n",
    "fishn.sort(reverse=True)\n",
    "fishn"
   ]
  },
  {
   "cell_type": "code",
   "execution_count": null,
   "metadata": {},
   "outputs": [],
   "source": [
    "# Lists can combine objects of any kind:\n",
    "fish = ['number', 1, True]\n",
    "fish[0]"
   ]
  },
  {
   "cell_type": "code",
   "execution_count": 85,
   "metadata": {},
   "outputs": [
    {
     "name": "stdout",
     "output_type": "stream",
     "text": [
      "str\n"
     ]
    },
    {
     "data": {
      "text/plain": [
       "[1, 'str']"
      ]
     },
     "execution_count": 85,
     "metadata": {},
     "output_type": "execute_result"
    }
   ],
   "source": [
    "# lists can be appended with new elements:\n",
    "fishn = []   # initialize with the empty list\n",
    "fishn.append(1)\n",
    "fishn.append('str')\n",
    "print(fishn[1])\n",
    "#print(fishn.sort())\n",
    "fishn"
   ]
  },
  {
   "cell_type": "markdown",
   "metadata": {},
   "source": [
    "[tuples](http://www.tutorialspoint.com/python/python_tuples.htm) -- non-[mutable](http://codehabitude.com/2013/12/24/python-objects-mutable-vs-immutable/) cousins of the lists. In essence, non-mutability means that the object cannot be altered (follow the provided link for more in-depth discussion)."
   ]
  },
  {
   "cell_type": "code",
   "execution_count": 86,
   "metadata": {},
   "outputs": [
    {
     "name": "stdout",
     "output_type": "stream",
     "text": [
      "[1, 2, 3]\n",
      "[1, 2, 3, 1]\n"
     ]
    }
   ],
   "source": [
    "def func(arg):\n",
    "    arg2 = arg\n",
    "    arg2.append(1)\n",
    "    return arg2\n",
    "a = [1,2,3]\n",
    "print(a)\n",
    "func(a)\n",
    "print(a)"
   ]
  },
  {
   "cell_type": "code",
   "execution_count": 89,
   "metadata": {},
   "outputs": [
    {
     "name": "stdout",
     "output_type": "stream",
     "text": [
      "(1, 2, 3)\n",
      "(1, 2, 3)\n"
     ]
    }
   ],
   "source": [
    "def func(arg):\n",
    "    arg2 = list(arg)\n",
    "    arg2.append(1)\n",
    "    return arg2\n",
    "a = (1,2,3)\n",
    "#a = tuple([1,2,3])\n",
    "print(a)\n",
    "func(a)\n",
    "print(a)"
   ]
  },
  {
   "cell_type": "code",
   "execution_count": 94,
   "metadata": {},
   "outputs": [],
   "source": [
    "fish_pigmentation = ('nacre', 'pigmented')"
   ]
  },
  {
   "cell_type": "code",
   "execution_count": 95,
   "metadata": {},
   "outputs": [
    {
     "data": {
      "text/plain": [
       "'nacre'"
      ]
     },
     "execution_count": 95,
     "metadata": {},
     "output_type": "execute_result"
    }
   ],
   "source": [
    "fish_pigmentation[0]"
   ]
  },
  {
   "cell_type": "markdown",
   "metadata": {},
   "source": [
    "tuples cannot be appended or otherwise modified:"
   ]
  },
  {
   "cell_type": "code",
   "execution_count": 96,
   "metadata": {},
   "outputs": [
    {
     "ename": "AttributeError",
     "evalue": "'tuple' object has no attribute 'append'",
     "traceback": [
      "\u001b[1;31m---------------------------------------------------------------------------\u001b[0m",
      "\u001b[1;31mAttributeError\u001b[0m                            Traceback (most recent call last)",
      "\u001b[1;32m<ipython-input-96-8cdeee93b05c>\u001b[0m in \u001b[0;36m<module>\u001b[1;34m\u001b[0m\n\u001b[1;32m----> 1\u001b[1;33m \u001b[0mfish_pigmentation\u001b[0m\u001b[1;33m.\u001b[0m\u001b[0mappend\u001b[0m\u001b[1;33m(\u001b[0m\u001b[1;34m'mixed'\u001b[0m\u001b[1;33m)\u001b[0m\u001b[1;33m\u001b[0m\u001b[1;33m\u001b[0m\u001b[0m\n\u001b[0m",
      "\u001b[1;31mAttributeError\u001b[0m: 'tuple' object has no attribute 'append'"
     ],
     "output_type": "error"
    }
   ],
   "source": [
    "fish_pigmentation.append('mixed')"
   ]
  },
  {
   "cell_type": "markdown",
   "metadata": {},
   "source": [
    "[Dictionaries](http://www.tutorialspoint.com/python/python_dictionary.htm) -- collections of objects in which the elements are accessed by their keys, rather than by indexes as in the lists."
   ]
  },
  {
   "cell_type": "code",
   "execution_count": 97,
   "metadata": {},
   "outputs": [
    {
     "data": {
      "text/plain": [
       "{'center': [0.21, 0.15],\n",
       " 'tail_angle': 20,\n",
       " 'eyes': {'eye1': 'blue', 'eye2': 'red'}}"
      ]
     },
     "execution_count": 97,
     "metadata": {},
     "output_type": "execute_result"
    }
   ],
   "source": [
    "# empty dictionary:\n",
    "fish_position = {}   # altenatively, dictionaries can be initialized as d = dict()\n",
    "fish_position = {'center': [0.21, 0.15], 'tail_angle': 20, 'eyes': {'eye1': 'blue', 'eye2': 'red'}}\n",
    "fish_position"
   ]
  },
  {
   "cell_type": "code",
   "execution_count": 98,
   "metadata": {},
   "outputs": [
    {
     "data": {
      "text/plain": [
       "0.21"
      ]
     },
     "execution_count": 98,
     "metadata": {},
     "output_type": "execute_result"
    }
   ],
   "source": [
    "fish_position['center'][0]"
   ]
  },
  {
   "cell_type": "code",
   "execution_count": 100,
   "metadata": {},
   "outputs": [
    {
     "data": {
      "text/plain": [
       "20"
      ]
     },
     "execution_count": 100,
     "metadata": {},
     "output_type": "execute_result"
    }
   ],
   "source": [
    "fish_position['tail_angle']"
   ]
  },
  {
   "cell_type": "code",
   "execution_count": 101,
   "metadata": {},
   "outputs": [
    {
     "data": {
      "text/plain": [
       "dict_keys(['center', 'tail_angle', 'eyes'])"
      ]
     },
     "execution_count": 101,
     "metadata": {},
     "output_type": "execute_result"
    }
   ],
   "source": [
    "fish_position.keys()"
   ]
  },
  {
   "cell_type": "code",
   "execution_count": 102,
   "metadata": {},
   "outputs": [
    {
     "data": {
      "text/plain": [
       "dict_items([('center', [0.21, 0.15]), ('tail_angle', 20), ('eyes', {'eye1': 'blue', 'eye2': 'red'})])"
      ]
     },
     "execution_count": 102,
     "metadata": {},
     "output_type": "execute_result"
    }
   ],
   "source": [
    "fish_position.items()"
   ]
  },
  {
   "cell_type": "markdown",
   "metadata": {},
   "source": [
    "__FLOW CONTROL__"
   ]
  },
  {
   "cell_type": "markdown",
   "metadata": {},
   "source": [
    "__IF STATEMENT__"
   ]
  },
  {
   "cell_type": "code",
   "execution_count": 104,
   "metadata": {},
   "outputs": [
    {
     "name": "stdout",
     "output_type": "stream",
     "text": [
      "small x & y\n"
     ]
    }
   ],
   "source": [
    "if fish_position['center'][0] < 0.3:\n",
    "    if fish_position['center'][1] < 0.3:\n",
    "      print('small x & y')\n",
    "    elif fish_position['center'][1] < 0.5:\n",
    "        pass\n",
    "    else:\n",
    "       print('small x')"
   ]
  },
  {
   "cell_type": "code",
   "execution_count": 105,
   "metadata": {},
   "outputs": [
    {
     "name": "stdout",
     "output_type": "stream",
     "text": [
      "small x & y\n"
     ]
    },
    {
     "data": {
      "text/plain": [
       "1.15"
      ]
     },
     "execution_count": 105,
     "metadata": {},
     "output_type": "execute_result"
    }
   ],
   "source": [
    "if fish_position['center'][0] < 0.3 and fish_position['center'][1] < 0.3:\n",
    "    print('small x & y')\n",
    "    fish_position['center'][1] += 1\n",
    "fish_position['center'][1]\n"
   ]
  },
  {
   "cell_type": "code",
   "execution_count": null,
   "metadata": {},
   "outputs": [],
   "source": [
    "# you can check whether a value is in an iterable object:\n",
    "colors = ['green', 'red', 'ir']\n",
    "if 'ir' in colors:\n",
    "    print('infrared')"
   ]
  },
  {
   "cell_type": "code",
   "execution_count": null,
   "metadata": {},
   "outputs": [],
   "source": [
    "# The iterable object from the previous example stands for an object which can produce next elements when asked to.\n",
    "# In order to do so, we first need to create an iterator by calling the iter() function. Then, calling next() function\n",
    "# on the iterator will produce next value in the sequence or an error corresponding to the end of it.\n",
    "# IF statements create the iterators on the background.\n",
    "colors_iter = iter(colors)\n",
    "print(next(colors_iter))\n",
    "print(next(colors_iter))\n",
    "print(next(colors_iter))\n",
    "print(next(colors_iter))"
   ]
  },
  {
   "cell_type": "code",
   "execution_count": null,
   "metadata": {},
   "outputs": [],
   "source": [
    "# Statements can be embedded within each other. Just pay attention to the indentations:\n",
    "if 'ir' in colors:\n",
    "    if 'i' in 'ir':\n",
    "        print('iii')\n",
    "    print('print anyway within')\n",
    "print('print anyway outside')"
   ]
  },
  {
   "cell_type": "code",
   "execution_count": null,
   "metadata": {},
   "outputs": [],
   "source": [
    "# If IF check returned FALSE we can check for other conditions using 'else' and 'elif':\n",
    "if 'UV' in colors:\n",
    "    print('UV is in colors')\n",
    "elif 'far IR' in colors:\n",
    "    print('far IR is in colors')\n",
    "else:\n",
    "    print('neither UV nor far IR are in colors')"
   ]
  },
  {
   "cell_type": "markdown",
   "metadata": {},
   "source": [
    "__FOR STATEMENT__ -- allows us to to execute the nested code for all the elements of an iterable object"
   ]
  },
  {
   "cell_type": "code",
   "execution_count": null,
   "metadata": {},
   "outputs": [],
   "source": [
    "# range() built-in function produces a list (in Python 2) or a generator (in Python 3) for values in a given range:\n",
    "list(range(2,5))   # list() call isn't necessary in Python 2"
   ]
  },
  {
   "cell_type": "code",
   "execution_count": 112,
   "metadata": {},
   "outputs": [
    {
     "name": "stdout",
     "output_type": "stream",
     "text": [
      "2\n",
      "3\n",
      "4\n"
     ]
    }
   ],
   "source": [
    "for i in [2,3,4]:\n",
    "    print(i)"
   ]
  },
  {
   "cell_type": "code",
   "execution_count": 120,
   "metadata": {},
   "outputs": [
    {
     "name": "stdout",
     "output_type": "stream",
     "text": [
      "3 / 3\n"
     ]
    }
   ],
   "source": [
    "# Count the number of items in a list; Recall the len() function does this\n",
    "imaging_planes = [\"plane1\", \"plane2\", \"plane3\"]\n",
    "count = 0\n",
    "for plane in imaging_planes:\n",
    "    count += 1\n",
    "print(\"{} / {}\".format(count, len(imaging_planes)))"
   ]
  },
  {
   "cell_type": "markdown",
   "metadata": {},
   "source": [
    "__FUNCTIONS__ -- one of the ways to wrap a code that is expected to be executed multiple times into one unit."
   ]
  },
  {
   "cell_type": "code",
   "execution_count": 121,
   "metadata": {},
   "outputs": [
    {
     "name": "stdout",
     "output_type": "stream",
     "text": [
      "Hello World!\n",
      "Hello World!\n"
     ]
    }
   ],
   "source": [
    "def fun1():\n",
    "    print(\"Hello World!\")\n",
    "fun1()\n",
    "fun1()"
   ]
  },
  {
   "cell_type": "code",
   "execution_count": 123,
   "metadata": {},
   "outputs": [
    {
     "name": "stdout",
     "output_type": "stream",
     "text": [
      "say: 'Hellow World!'\n",
      "tell: 'Hellow World!'\n"
     ]
    }
   ],
   "source": [
    "# Functions can have arguments and condition their output on them:\n",
    "def fun2(arg):\n",
    "    print(arg + \"'Hellow World!'\")\n",
    "fun2(\"say: \")\n",
    "fun2(\"tell: \")"
   ]
  },
  {
   "cell_type": "code",
   "execution_count": 126,
   "metadata": {},
   "outputs": [],
   "source": [
    "# A more complex example counting a number of vowels in names:\n",
    "def count_vowels(names):\n",
    "    # names should be an iterable containing strings\n",
    "    vowels = [\"a\", \"e\", \"i\", \"o\", \"u\"]\n",
    "    vowel_count = []\n",
    "    for name in names:\n",
    "        i = 0\n",
    "        for letter in name:\n",
    "          if letter.lower() in vowels:\n",
    "            i += 1    # equivalent to i = i + 1\n",
    "        vowel_count.append(i)\n",
    "    return vowel_count"
   ]
  },
  {
   "cell_type": "code",
   "execution_count": 127,
   "metadata": {},
   "outputs": [
    {
     "data": {
      "text/plain": [
       "[2, 2, 2, 3, 3]"
      ]
     },
     "execution_count": 127,
     "metadata": {},
     "output_type": "execute_result"
    }
   ],
   "source": [
    "count_vowels(['Armon', 'Jose', 'Linda', 'Michael', 'Zainub'])"
   ]
  },
  {
   "cell_type": "markdown",
   "metadata": {},
   "source": [
    "[__LIST COMPREHENSIONS__](http://www.secnetix.de/olli/Python/list_comprehensions.hawk) -- often, a much faster way to execute for loops (remember that Python is the interpreted language in which each line is read and executed anew when reached). It's also a much shorter way to code for the same result."
   ]
  },
  {
   "cell_type": "code",
   "execution_count": 130,
   "metadata": {},
   "outputs": [
    {
     "name": "stdout",
     "output_type": "stream",
     "text": [
      "[25, 9]\n"
     ]
    }
   ],
   "source": [
    "# Below, the same operation is performed using the for-loop and the list comprehention:\n",
    "x = [5, 0, 3, 20]\n",
    "y = []\n",
    "for element in x:\n",
    "    if element > 1 and element < 10:\n",
    "        y.append(element**2)        \n",
    "print(y)"
   ]
  },
  {
   "cell_type": "code",
   "execution_count": 132,
   "metadata": {},
   "outputs": [
    {
     "data": {
      "text/plain": [
       "[25, 0, 9, 400]"
      ]
     },
     "execution_count": 132,
     "metadata": {},
     "output_type": "execute_result"
    }
   ],
   "source": [
    "[i**2 for i in x]"
   ]
  },
  {
   "cell_type": "code",
   "execution_count": 129,
   "metadata": {},
   "outputs": [
    {
     "name": "stdout",
     "output_type": "stream",
     "text": [
      "[25, 9]\n"
     ]
    }
   ],
   "source": [
    "# with list comprehensions:\n",
    "y = [i**2 for i in x if i > 1 and i < 10]\n",
    "print(y)"
   ]
  },
  {
   "cell_type": "code",
   "execution_count": null,
   "metadata": {},
   "outputs": [],
   "source": [
    "f = open(r'C:\\Data\\test2.txt', 'r')"
   ]
  },
  {
   "cell_type": "code",
   "execution_count": null,
   "metadata": {},
   "outputs": [],
   "source": [
    "f.readline()"
   ]
  },
  {
   "cell_type": "code",
   "execution_count": null,
   "metadata": {},
   "outputs": [],
   "source": [
    "f.readline()"
   ]
  },
  {
   "cell_type": "code",
   "execution_count": null,
   "metadata": {},
   "outputs": [],
   "source": [
    "f.readline()"
   ]
  },
  {
   "cell_type": "code",
   "execution_count": null,
   "metadata": {},
   "outputs": [],
   "source": [
    "f.close()"
   ]
  },
  {
   "cell_type": "code",
   "execution_count": null,
   "metadata": {},
   "outputs": [],
   "source": [
    "with open(r'C:\\Data\\test2.txt') as f:\n",
    "    print(f.readline())"
   ]
  },
  {
   "cell_type": "code",
   "execution_count": 133,
   "metadata": {},
   "outputs": [],
   "source": [
    "from matplotlib import pyplot as plt"
   ]
  },
  {
   "cell_type": "code",
   "execution_count": 134,
   "metadata": {},
   "outputs": [],
   "source": [
    "x = [0, 1, 2, 3, 4]"
   ]
  },
  {
   "cell_type": "code",
   "execution_count": 135,
   "metadata": {},
   "outputs": [
    {
     "name": "stdout",
     "output_type": "stream",
     "text": [
      "[0.69757059 0.11652966 0.56786841 0.03840664 0.92972269]\n"
     ]
    }
   ],
   "source": [
    "y = rand(5)\n",
    "print(y)"
   ]
  },
  {
   "cell_type": "code",
   "execution_count": 143,
   "metadata": {},
   "outputs": [
    {
     "data": {
      "text/plain": [
       "Text(0.5, 1.0, 'random values')"
      ]
     },
     "execution_count": 143,
     "metadata": {},
     "output_type": "execute_result"
    },
    {
     "data": {
      "image/png": "[encoded data removed]",
      "text/plain": [
       "<Figure size 432x288 with 1 Axes>"
      ]
     },
     "metadata": {
      "needs_background": "light"
     },
     "output_type": "display_data"
    }
   ],
   "source": [
    "pl = plt.plot(x, y, '*-')\n",
    "plt.title('random values')"
   ]
  },
  {
   "cell_type": "code",
   "execution_count": 146,
   "metadata": {},
   "outputs": [],
   "source": [
    "# To install cv2 under Anaconda installation, run the following command:\n",
    "# conda install -c menpo opencv\n",
    "import cv2\n",
    "\n",
    "cap = cv2.VideoCapture()\n",
    "cap.open(0)\n",
    "\n",
    "try:\n",
    "    while True:\n",
    "        # Capture frame-by-frame\n",
    "        ret, frame = cap.read()\n",
    "\n",
    "        if frame is None:\n",
    "            raise NameError('None frame')\n",
    "\n",
    "        # Our operations on the frame come here\n",
    "        gray = cv2.cvtColor(frame, cv2.COLOR_BGR2GRAY)\n",
    "\n",
    "        # Display the resulting frame\n",
    "        cv2.imshow('frame',gray)\n",
    "        if cv2.waitKey(1) & 0xFF == ord('q'):\n",
    "            break\n",
    "except Exception as e:\n",
    "    print(e)\n",
    "\n",
    "# When everything done, release the capture\n",
    "cap.release()\n",
    "cv2.destroyAllWindows()"
   ]
  },
  {
   "cell_type": "code",
   "execution_count": null,
   "metadata": {},
   "outputs": [],
   "source": []
  }
 ],
 "metadata": {
  "anaconda-cloud": {},
  "kernelspec": {
   "display_name": "Python 3",
   "language": "python",
   "name": "python3"
  },
  "language_info": {
   "codemirror_mode": {
    "name": "ipython",
    "version": 3
   },
   "file_extension": ".py",
   "mimetype": "text/x-python",
   "name": "python",
   "nbconvert_exporter": "python",
   "pygments_lexer": "ipython3",
   "version": "3.7.1"
  }
 },
 "nbformat": 4,
 "nbformat_minor": 1
}
